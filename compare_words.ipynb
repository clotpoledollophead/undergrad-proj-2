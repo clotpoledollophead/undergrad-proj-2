{
 "cells": [
  {
   "cell_type": "code",
   "execution_count": 1,
   "metadata": {},
   "outputs": [],
   "source": [
    "import csv\n",
    "import pandas as pd\n",
    "import matplotlib.pyplot as plt\n",
    "import matplotlib.font_manager as fm\n",
    "import os\n",
    "from collections import Counter\n",
    "from IPython.display import display"
   ]
  },
  {
   "cell_type": "code",
   "execution_count": 2,
   "metadata": {},
   "outputs": [],
   "source": [
    "# Define the paths to the text files\n",
    "text_files = [\n",
    "    \"E:/Uni/Spring Semester 2022/undergrad_proj/vocab/book/the_hobbit/txt/lteq5.txt\",\n",
    "    \"E:/Uni/Spring Semester 2022/undergrad_proj/vocab/book/the_hobbit/txt/lt10.txt\",\n",
    "    \"E:/Uni/Spring Semester 2022/undergrad_proj/vocab/book/the_hobbit/txt/lt20.txt\",\n",
    "    \"E:/Uni/Spring Semester 2022/undergrad_proj/vocab/book/the_hobbit/txt/lt50.txt\",\n",
    "    \"E:/Uni/Spring Semester 2022/undergrad_proj/vocab/book/the_hobbit/txt/lt100.txt\",\n",
    "    \"E:/Uni/Spring Semester 2022/undergrad_proj/vocab/book/the_hobbit/txt/lt200.txt\",\n",
    "    \"E:/Uni/Spring Semester 2022/undergrad_proj/vocab/book/the_hobbit/txt/lt500.txt\",\n",
    "    \"E:/Uni/Spring Semester 2022/undergrad_proj/vocab/book/the_hobbit/txt/lt1000.txt\",\n",
    "    \"E:/Uni/Spring Semester 2022/undergrad_proj/vocab/book/the_hobbit/txt/lt2000.txt\",\n",
    "    \"E:/Uni/Spring Semester 2022/undergrad_proj/vocab/book/the_hobbit/txt/lt5000.txt\",\n",
    "    \"E:/Uni/Spring Semester 2022/undergrad_proj/vocab/book/the_hobbit/txt/lt10000.txt\"\n",
    "]"
   ]
  },
  {
   "cell_type": "code",
   "execution_count": null,
   "metadata": {},
   "outputs": [],
   "source": [
    "# Define the paths to the text files\n",
    "text_files = [\n",
    "    \"E:/Uni/Spring Semester 2022/undergrad_proj/vocab/book/lotr/txt/lteq5.txt\",\n",
    "    \"E:/Uni/Spring Semester 2022/undergrad_proj/vocab/book/lotr/txt/lt10.txt\",\n",
    "    \"E:/Uni/Spring Semester 2022/undergrad_proj/vocab/book/lotr/txt/lt20.txt\",\n",
    "    \"E:/Uni/Spring Semester 2022/undergrad_proj/vocab/book/lotr/txt/lt50.txt\",\n",
    "    \"E:/Uni/Spring Semester 2022/undergrad_proj/vocab/book/lotr/txt/lt100.txt\",\n",
    "    \"E:/Uni/Spring Semester 2022/undergrad_proj/vocab/book/lotr/txt/lt200.txt\",\n",
    "    \"E:/Uni/Spring Semester 2022/undergrad_proj/vocab/book/lotr/txt/lt500.txt\",\n",
    "    \"E:/Uni/Spring Semester 2022/undergrad_proj/vocab/book/lotr/txt/lt1000.txt\",\n",
    "    \"E:/Uni/Spring Semester 2022/undergrad_proj/vocab/book/lotr/txt/lt2000.txt\",\n",
    "    \"E:/Uni/Spring Semester 2022/undergrad_proj/vocab/book/lotr/txt/lt5000.txt\",\n",
    "    \"E:/Uni/Spring Semester 2022/undergrad_proj/vocab/book/lotr/txt/lt10000.txt\", \n",
    "    \"E:/Uni/Spring Semester 2022/undergrad_proj/vocab/book/lotr/txt/lt20000.txt\", \n",
    "    \"E:/Uni/Spring Semester 2022/undergrad_proj/vocab/book/lotr/txt/lt50000.txt\"\n",
    "]"
   ]
  },
  {
   "cell_type": "code",
   "execution_count": 3,
   "metadata": {},
   "outputs": [],
   "source": [
    "# Define the path to the target file\n",
    "comparison_file = \"E:/Uni/Spring Semester 2022/undergrad_proj/vocab/2000.txt\""
   ]
  },
  {
   "cell_type": "code",
   "execution_count": null,
   "metadata": {},
   "outputs": [],
   "source": [
    "# Define the path to the target file\n",
    "comparison_file = \"E:/Uni/Spring Semester 2022/undergrad_proj/vocab/7000.txt\""
   ]
  },
  {
   "cell_type": "code",
   "execution_count": 4,
   "metadata": {},
   "outputs": [],
   "source": [
    "# Read the contents of the target file\n",
    "with open(comparison_file, 'r') as target:\n",
    "    target_words = target.read().split()"
   ]
  },
  {
   "cell_type": "code",
   "execution_count": 5,
   "metadata": {},
   "outputs": [],
   "source": [
    "# Initialize a dictionary to store the word counts\n",
    "word_counts = {}"
   ]
  },
  {
   "cell_type": "code",
   "execution_count": 12,
   "metadata": {},
   "outputs": [],
   "source": [
    "# Process each text file\n",
    "for file_path in text_files:\n",
    "    with open(file_path, 'r') as file:\n",
    "        file_words = file.read().split()\n",
    "\n",
    "    # Count the occurrence of each word in the text file\n",
    "    counts = Counter(file_words)\n",
    "\n",
    "    # Find the number of same words with the target file\n",
    "    same_word_count = sum(counts[word] for word in target_words)\n",
    "    total_word_count = len(file_words)\n",
    "\n",
    "    # Calculate the percentage of same words\n",
    "    same_word_percentage = (same_word_count / total_word_count) * 100\n",
    "\n",
    "    # Extract the file name without the path and \".txt\" extension\n",
    "    file_name = os.path.basename(file_path).split(\".\")[0]\n",
    "\n",
    "    # Store the count and percentage in the dictionary\n",
    "    word_counts[file_name] = {\n",
    "        'Words Covered by MOE\\'s CAP Exam (2000 words) ': same_word_count,\n",
    "        'Original Word Count in The Hobbit': total_word_count,\n",
    "        'Percentage of Covered Words': same_word_percentage,\n",
    "        'Same Words': ', '.join([word for word in target_words if counts[word] > 0])\n",
    "    }"
   ]
  },
  {
   "cell_type": "code",
   "execution_count": null,
   "metadata": {},
   "outputs": [],
   "source": [
    "# Process each text file\n",
    "for file_path in text_files:\n",
    "    with open(file_path, 'r') as file:\n",
    "        file_words = file.read().split()\n",
    "\n",
    "    # Count the occurrence of each word in the text file\n",
    "    counts = Counter(file_words)\n",
    "\n",
    "    # Find the number of same words with the target file\n",
    "    same_word_count = sum(counts[word] for word in target_words)\n",
    "    total_word_count = len(file_words)\n",
    "\n",
    "    # Calculate the percentage of same words\n",
    "    same_word_percentage = (same_word_count / total_word_count) * 100\n",
    "\n",
    "    # Extract the file name without the path and \".txt\" extension\n",
    "    file_name = os.path.basename(file_path).split(\".\")[0]\n",
    "\n",
    "    # Store the count and percentage in the dictionary\n",
    "    word_counts[file_name] = {\n",
    "        'Words Covered by MOE\\'s AST Exam (7000 words) ': same_word_count,\n",
    "        'Original Word Count in The Hobbit': total_word_count,\n",
    "        'Percentage of Covered Words': same_word_percentage\n",
    "    }"
   ]
  },
  {
   "cell_type": "code",
   "execution_count": null,
   "metadata": {},
   "outputs": [],
   "source": [
    "# Process each text file\n",
    "for file_path in text_files:\n",
    "    with open(file_path, 'r') as file:\n",
    "        file_words = file.read().split()\n",
    "\n",
    "    # Count the occurrence of each word in the text file\n",
    "    counts = Counter(file_words)\n",
    "\n",
    "    # Find the number of same words with the target file\n",
    "    same_word_count = sum(counts[word] for word in target_words)\n",
    "    total_word_count = len(file_words)\n",
    "\n",
    "    # Calculate the percentage of same words\n",
    "    same_word_percentage = (same_word_count / total_word_count) * 100\n",
    "\n",
    "    # Extract the file name without the path and \".txt\" extension\n",
    "    file_name = os.path.basename(file_path).split(\".\")[0]\n",
    "\n",
    "    # Store the count and percentage in the dictionary\n",
    "    word_counts[file_name] = {\n",
    "        'Words Covered by MOE\\'s CAP Exam (2000 words) ': same_word_count,\n",
    "        'Original Word Count in The Lord of the Rings': total_word_count,\n",
    "        'Percentage of Covered Words': same_word_percentage\n",
    "    }"
   ]
  },
  {
   "cell_type": "code",
   "execution_count": null,
   "metadata": {},
   "outputs": [],
   "source": [
    "# Process each text file\n",
    "for file_path in text_files:\n",
    "    with open(file_path, 'r') as file:\n",
    "        file_words = file.read().split()\n",
    "\n",
    "    # Count the occurrence of each word in the text file\n",
    "    counts = Counter(file_words)\n",
    "\n",
    "    # Find the number of same words with the target file\n",
    "    same_word_count = sum(counts[word] for word in target_words)\n",
    "    total_word_count = len(file_words)\n",
    "\n",
    "    # Calculate the percentage of same words\n",
    "    same_word_percentage = (same_word_count / total_word_count) * 100\n",
    "\n",
    "    # Extract the file name without the path and \".txt\" extension\n",
    "    file_name = os.path.basename(file_path).split(\".\")[0]\n",
    "\n",
    "    # Store the count and percentage in the dictionary\n",
    "    word_counts[file_name] = {\n",
    "        'Words Covered by MOE\\'s AST Exam (7000 words) ': same_word_count,\n",
    "        'Original Word Count in The Lord of the Rings': total_word_count,\n",
    "        'Percentage of Covered Words': same_word_percentage\n",
    "    }"
   ]
  },
  {
   "cell_type": "code",
   "execution_count": 13,
   "metadata": {},
   "outputs": [],
   "source": [
    "# Convert the word counts dictionary to a DataFrame\n",
    "df = pd.DataFrame.from_dict(word_counts, orient='index')"
   ]
  },
  {
   "cell_type": "code",
   "execution_count": 14,
   "metadata": {},
   "outputs": [],
   "source": [
    "# Set the font to Raleway\n",
    "plt.rcParams['font.family'] = 'sans-serif'\n",
    "\n",
    "# Set the font sizes for titles\n",
    "title_font_size = 16\n",
    "label_font_size = 12"
   ]
  },
  {
   "cell_type": "code",
   "execution_count": 15,
   "metadata": {},
   "outputs": [
    {
     "data": {
      "text/html": [
       "<style type=\"text/css\">\n",
       "#T_2ed30 caption {\n",
       "  text-align: center;\n",
       "  font-size: 16px;\n",
       "  font-weight: bold;\n",
       "}\n",
       "#T_2ed30_row0_col0, #T_2ed30_row0_col1, #T_2ed30_row0_col2, #T_2ed30_row0_col3, #T_2ed30_row1_col0, #T_2ed30_row1_col1, #T_2ed30_row1_col2, #T_2ed30_row1_col3, #T_2ed30_row2_col0, #T_2ed30_row2_col1, #T_2ed30_row2_col2, #T_2ed30_row2_col3, #T_2ed30_row3_col0, #T_2ed30_row3_col1, #T_2ed30_row3_col2, #T_2ed30_row3_col3, #T_2ed30_row4_col0, #T_2ed30_row4_col1, #T_2ed30_row4_col2, #T_2ed30_row4_col3, #T_2ed30_row5_col0, #T_2ed30_row5_col1, #T_2ed30_row5_col2, #T_2ed30_row5_col3, #T_2ed30_row6_col0, #T_2ed30_row6_col1, #T_2ed30_row6_col2, #T_2ed30_row6_col3, #T_2ed30_row7_col0, #T_2ed30_row7_col1, #T_2ed30_row7_col2, #T_2ed30_row7_col3, #T_2ed30_row8_col0, #T_2ed30_row8_col1, #T_2ed30_row8_col2, #T_2ed30_row8_col3, #T_2ed30_row9_col0, #T_2ed30_row9_col1, #T_2ed30_row9_col2, #T_2ed30_row9_col3, #T_2ed30_row10_col0, #T_2ed30_row10_col1, #T_2ed30_row10_col2, #T_2ed30_row10_col3 {\n",
       "  font-size: 12px;\n",
       "}\n",
       "</style>\n",
       "<table id=\"T_2ed30\">\n",
       "  <caption>Word Counts</caption>\n",
       "  <thead>\n",
       "    <tr>\n",
       "      <th class=\"blank level0\" >&nbsp;</th>\n",
       "      <th id=\"T_2ed30_level0_col0\" class=\"col_heading level0 col0\" >Words Covered by MOE's CAP Exam (2000 words) </th>\n",
       "      <th id=\"T_2ed30_level0_col1\" class=\"col_heading level0 col1\" >Original Word Count in The Hobbit</th>\n",
       "      <th id=\"T_2ed30_level0_col2\" class=\"col_heading level0 col2\" >Percentage of Covered Words</th>\n",
       "      <th id=\"T_2ed30_level0_col3\" class=\"col_heading level0 col3\" >Same Words</th>\n",
       "    </tr>\n",
       "  </thead>\n",
       "  <tbody>\n",
       "    <tr>\n",
       "      <th id=\"T_2ed30_level0_row0\" class=\"row_heading level0 row0\" >lteq5</th>\n",
       "      <td id=\"T_2ed30_row0_col0\" class=\"data row0 col0\" >5</td>\n",
       "      <td id=\"T_2ed30_row0_col1\" class=\"data row0 col1\" >269</td>\n",
       "      <td id=\"T_2ed30_row0_col2\" class=\"data row0 col2\" >1.858736</td>\n",
       "      <td id=\"T_2ed30_row0_col3\" class=\"data row0 col3\" >handkerchief, loaf, rude, thirsty, yell</td>\n",
       "    </tr>\n",
       "    <tr>\n",
       "      <th id=\"T_2ed30_level0_row1\" class=\"row_heading level0 row1\" >lt10</th>\n",
       "      <td id=\"T_2ed30_row1_col0\" class=\"data row1 col0\" >23</td>\n",
       "      <td id=\"T_2ed30_row1_col1\" class=\"data row1 col1\" >265</td>\n",
       "      <td id=\"T_2ed30_row1_col2\" class=\"data row1 col2\" >8.679245</td>\n",
       "      <td id=\"T_2ed30_row1_col3\" class=\"data row1 col3\" >anywhere, bitter, bless, bother, clever, forget, funny, goodness, hurry, imagine, joy, lucky, mat, meal, seldom, somewhere, stairs, thunder, tomorrow, tongue, tonight, wonderful, yourself</td>\n",
       "    </tr>\n",
       "    <tr>\n",
       "      <th id=\"T_2ed30_level0_row2\" class=\"row_heading level0 row2\" >lt20</th>\n",
       "      <td id=\"T_2ed30_row2_col0\" class=\"data row2 col0\" >95</td>\n",
       "      <td id=\"T_2ed30_row2_col1\" class=\"data row2 col1\" >293</td>\n",
       "      <td id=\"T_2ed30_row2_col2\" class=\"data row2 col2\" >32.423208</td>\n",
       "      <td id=\"T_2ed30_row2_col3\" class=\"data row2 col3\" >lot, afraid, ahead, aloud, altogether, anyone, autumn, bed, bow, burst, busy, careful, catch, climb, clothes, comfortable, corner, courage, cry, danger, dangerous, dawn, dear, difficult, distant, doubt, dry, eagle, easy, empty, entrance, everybody, everything, fool, fourteen, glad, bye, grandfather, happen, hundred, laugh, lightning, listen, lonely, mail, mail, map, mouth, narrow, neither, nice, nose, notice, lot, plain, pleasant, please, pleased, polite, pretty, rabbit, rain, ready, roof, seem, sharp, shore, sick, sight, silence, silent, snow, somebody, sorry, strange, sudden, surprise, surprised, table, table, tea, terrible, thank, thick, thief, tired, unhappy, wait, wake, warm, waste, wet, wise, wrong, yours</td>\n",
       "    </tr>\n",
       "    <tr>\n",
       "      <th id=\"T_2ed30_level0_row3\" class=\"row_heading level0 row3\" >lt50</th>\n",
       "      <td id=\"T_2ed30_row3_col0\" class=\"data row3 col0\" >138</td>\n",
       "      <td id=\"T_2ed30_row3_col1\" class=\"data row3 col1\" >266</td>\n",
       "      <td id=\"T_2ed30_row3_col2\" class=\"data row3 col2\" >51.879699</td>\n",
       "      <td id=\"T_2ed30_row3_col3\" class=\"data row3 col3\" >few, across, ago, alive, almost, alone, always, angry, answer, anything, ask, asleep, bad, bear, beard, beautiful, beginning, believe, below, beside, beyond, big, boat, breakfast, bright, camp, chance, dead, deal, deep, direction, distance, done, drink, eat, edge, else, evening, every, except, expect, fact, fair, fast, fat, fear, feel, feeling, few, fine, floor, food, forward, front, golden, grass, green, ground, guess, hall, hard, hardly, hear, heart, hill, hole, hope, horrible, hungry, idea, keep, least, less, loud, magic, master, matter, might, mind, moment, moon, nearly, next, noise, none, outside, pale, perhaps, pocket, poor, precious, quick, quiet, rather, red, remember, rock, rope, safe, secret, share, shut, silver, sing, sit, sky, sleep, smell, smoke, drink, sound, spider, straight, stream, strong, supper, sure, talk, tall, themselves, thing, together, treasure, tree, trouble, tunnel, turn, voice, wall, want, whether, whole, why, wild, wish, wood, woods, yes</td>\n",
       "    </tr>\n",
       "    <tr>\n",
       "      <th id=\"T_2ed30_level0_row4\" class=\"row_heading level0 row4\" >lt100</th>\n",
       "      <td id=\"T_2ed30_row4_col0\" class=\"data row4 col0\" >57</td>\n",
       "      <td id=\"T_2ed30_row4_col1\" class=\"data row4 col1\" >99</td>\n",
       "      <td id=\"T_2ed30_row4_col2\" class=\"data row4 col2\" >57.575758</td>\n",
       "      <td id=\"T_2ed30_row4_col3\" class=\"data row4 col3\" >above, along, already, among, another, black, cold, course, day, enough, find, fire, forest, gate, gold, hand, himself, head, help, how, inside, king, lake, lay, let, look, morning, near, night, nor, nothing, once, own, path, people, put, quite, really, right, ring, say, shall, should, something, stone, sun, tell, these, think, those, till, upon, valley, wide, wind, without, yet</td>\n",
       "    </tr>\n",
       "    <tr>\n",
       "      <th id=\"T_2ed30_level0_row5\" class=\"row_heading level0 row5\" >lt200</th>\n",
       "      <td id=\"T_2ed30_row5_col0\" class=\"data row5 col0\" >57</td>\n",
       "      <td id=\"T_2ed30_row5_col1\" class=\"data row5 col1\" >65</td>\n",
       "      <td id=\"T_2ed30_row5_col2\" class=\"data row5 col2\" >87.692308</td>\n",
       "      <td id=\"T_2ed30_row5_col3\" class=\"data row5 col3\" >little, after, again, any, away, am, behind, can, dark, do, did, door, dragon, end, even, ever, far, get, go, good, here, me, my, just, know, last, left, light, little, many, mountain, much, must, never, off, old, only, over, river, round, see, side, soon, still, than, though, thought, through, too, under, water, way, us, our, well, where, while</td>\n",
       "    </tr>\n",
       "    <tr>\n",
       "      <th id=\"T_2ed30_level0_row6\" class=\"row_heading level0 row6\" >lt500</th>\n",
       "      <td id=\"T_2ed30_row6_col0\" class=\"data row6 col0\" >35</td>\n",
       "      <td id=\"T_2ed30_row6_col1\" class=\"data row6 col1\" >39</td>\n",
       "      <td id=\"T_2ed30_row6_col2\" class=\"data row6 col2\" >89.743590</td>\n",
       "      <td id=\"T_2ed30_row6_col3\" class=\"data row6 col3\" >about, back, is, are, been, before, could, come, down, from, great, have, him, into, like, long, more, no, now, one, or, out, so, some, then, this, time, up, very, we, what, when, will, would, your</td>\n",
       "    </tr>\n",
       "    <tr>\n",
       "      <th id=\"T_2ed30_level0_row7\" class=\"row_heading level0 row7\" >lt1000</th>\n",
       "      <td id=\"T_2ed30_row7_col0\" class=\"data row7 col0\" >14</td>\n",
       "      <td id=\"T_2ed30_row7_col1\" class=\"data row7 col1\" >17</td>\n",
       "      <td id=\"T_2ed30_row7_col2\" class=\"data row7 col2\" >82.352941</td>\n",
       "      <td id=\"T_2ed30_row7_col3\" class=\"data row7 col3\" >all, as, were, but, for, had, his, not, on, there, them, their, with, you</td>\n",
       "    </tr>\n",
       "    <tr>\n",
       "      <th id=\"T_2ed30_level0_row8\" class=\"row_heading level0 row8\" >lt2000</th>\n",
       "      <td id=\"T_2ed30_row8_col0\" class=\"data row8 col0\" >6</td>\n",
       "      <td id=\"T_2ed30_row8_col1\" class=\"data row8 col1\" >6</td>\n",
       "      <td id=\"T_2ed30_row8_col2\" class=\"data row8 col2\" >100.000000</td>\n",
       "      <td id=\"T_2ed30_row8_col3\" class=\"data row8 col3\" >a, was, he, it, that, they</td>\n",
       "    </tr>\n",
       "    <tr>\n",
       "      <th id=\"T_2ed30_level0_row9\" class=\"row_heading level0 row9\" >lt5000</th>\n",
       "      <td id=\"T_2ed30_row9_col0\" class=\"data row9 col0\" >3</td>\n",
       "      <td id=\"T_2ed30_row9_col1\" class=\"data row9 col1\" >3</td>\n",
       "      <td id=\"T_2ed30_row9_col2\" class=\"data row9 col2\" >100.000000</td>\n",
       "      <td id=\"T_2ed30_row9_col3\" class=\"data row9 col3\" >and, of, to</td>\n",
       "    </tr>\n",
       "    <tr>\n",
       "      <th id=\"T_2ed30_level0_row10\" class=\"row_heading level0 row10\" >lt10000</th>\n",
       "      <td id=\"T_2ed30_row10_col0\" class=\"data row10 col0\" >1</td>\n",
       "      <td id=\"T_2ed30_row10_col1\" class=\"data row10 col1\" >1</td>\n",
       "      <td id=\"T_2ed30_row10_col2\" class=\"data row10 col2\" >100.000000</td>\n",
       "      <td id=\"T_2ed30_row10_col3\" class=\"data row10 col3\" >the</td>\n",
       "    </tr>\n",
       "  </tbody>\n",
       "</table>\n"
      ],
      "text/plain": [
       "<pandas.io.formats.style.Styler at 0x1a78c2a4e10>"
      ]
     },
     "metadata": {},
     "output_type": "display_data"
    }
   ],
   "source": [
    "# Display the word counts table with title\n",
    "display(df.style.set_caption('Word Counts').set_table_styles([{\n",
    "    'selector': 'caption',\n",
    "    'props': [\n",
    "        ('text-align', 'center'),\n",
    "        ('font-size', f'{title_font_size}px'),\n",
    "        ('font-weight', 'bold'),\n",
    "    ]\n",
    "}]).set_properties(**{\n",
    "    'font-size': f'{label_font_size}px',\n",
    "}))"
   ]
  },
  {
   "cell_type": "code",
   "execution_count": 10,
   "metadata": {},
   "outputs": [
    {
     "data": {
      "image/png": "[encoded data removed]",
      "text/plain": [
       "<Figure size 1000x600 with 1 Axes>"
      ]
     },
     "metadata": {},
     "output_type": "display_data"
    }
   ],
   "source": [
    "# Generate the graph\n",
    "plt.figure(figsize=(10, 6))\n",
    "plt.bar(df.index, df['Percentage of Covered Words'])\n",
    "plt.xlabel('Frequency of Words in The Hobbit Sorted by Tiers', fontsize=label_font_size)\n",
    "plt.ylabel('Percentage of Words Covered by the MOE\\'s CAP Vocabulary List', fontsize=label_font_size)\n",
    "plt.title('Relationship between Word Frequency and MOE\\'s CAP Coverage in The Hobbit', fontsize=title_font_size)\n",
    "plt.xticks(rotation=90)\n",
    "plt.tight_layout()\n",
    "plt.show()"
   ]
  },
  {
   "cell_type": "code",
   "execution_count": null,
   "metadata": {},
   "outputs": [],
   "source": [
    "# Generate the graph\n",
    "plt.figure(figsize=(10, 6))\n",
    "plt.bar(df.index, df['Percentage of Covered Words'])\n",
    "plt.xlabel('Frequency of Words in The Hobbit Sorted by Tiers', fontsize=label_font_size)\n",
    "plt.ylabel('Percentage of Words Covered by the MOE\\'s AST Vocabulary List', fontsize=label_font_size)\n",
    "plt.title('Relationship between Word Frequency and MOE\\'s AST Coverage in The Hobbit', fontsize=title_font_size)\n",
    "plt.xticks(rotation=90)\n",
    "plt.tight_layout()\n",
    "plt.show()"
   ]
  },
  {
   "cell_type": "code",
   "execution_count": null,
   "metadata": {},
   "outputs": [],
   "source": [
    "# Generate the graph\n",
    "plt.figure(figsize=(10, 6))\n",
    "plt.bar(df.index, df['Percentage of Covered Words'])\n",
    "plt.xlabel('Frequency of Words in The Lord of the Rings Sorted by Tiers', fontsize=label_font_size)\n",
    "plt.ylabel('Percentage of Words Covered by the MOE\\'s CAP Vocabulary List', fontsize=label_font_size)\n",
    "plt.title('Relationship between Word Frequency and MOE\\'s CAP Coverage in The Lord of the Rings', fontsize=title_font_size)\n",
    "plt.xticks(rotation=90)\n",
    "plt.tight_layout()\n",
    "plt.show()"
   ]
  },
  {
   "cell_type": "code",
   "execution_count": null,
   "metadata": {},
   "outputs": [],
   "source": [
    "# Generate the graph\n",
    "plt.figure(figsize=(10, 6))\n",
    "plt.bar(df.index, df['Percentage of Covered Words'])\n",
    "plt.xlabel('Frequency of Words in The Lord of the Rings Sorted by Tiers', fontsize=label_font_size)\n",
    "plt.ylabel('Percentage of Words Covered by the MOE\\'s AST Vocabulary List', fontsize=label_font_size)\n",
    "plt.title('Relationship between Word Frequency and MOE\\'s AST Coverage in The Lord of the Rings', fontsize=title_font_size)\n",
    "plt.xticks(rotation=90)\n",
    "plt.tight_layout()\n",
    "plt.show()"
   ]
  }
 ],
 "metadata": {
  "kernelspec": {
   "display_name": "Python 3",
   "language": "python",
   "name": "python3"
  },
  "language_info": {
   "codemirror_mode": {
    "name": "ipython",
    "version": 3
   },
   "file_extension": ".py",
   "mimetype": "text/x-python",
   "name": "python",
   "nbconvert_exporter": "python",
   "pygments_lexer": "ipython3",
   "version": "3.11.0"
  },
  "orig_nbformat": 4
 },
 "nbformat": 4,
 "nbformat_minor": 2
}
